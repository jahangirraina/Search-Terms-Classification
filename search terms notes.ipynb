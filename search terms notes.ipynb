{
 "cells": [
  {
   "cell_type": "markdown",
   "metadata": {},
   "source": [
    "# Search Terms Classification\n",
    "<< Outline of notes >>\n",
    "#### 1. MVP\n",
    "#### 2. Suggested trimmed down version of MVP\n",
    "#### 3. Lessons from MVP\n",
    "#### 4. Weaknesses in the model\n",
    "#### 5. Other techniques and models we tried"
   ]
  },
  {
   "cell_type": "markdown",
   "metadata": {},
   "source": [
    " "
   ]
  },
  {
   "cell_type": "markdown",
   "metadata": {},
   "source": [
    " "
   ]
  },
  {
   "cell_type": "markdown",
   "metadata": {},
   "source": [
    " "
   ]
  },
  {
   "cell_type": "markdown",
   "metadata": {},
   "source": [
    " # 1. MVP"
   ]
  },
  {
   "cell_type": "code",
   "execution_count": 1,
   "metadata": {},
   "outputs": [],
   "source": [
    "import pandas as pd\n",
    "import seaborn as sns\n",
    "import numpy as np\n",
    "from nltk.tokenize import word_tokenize\n",
    "from nltk import pos_tag\n",
    "from nltk.corpus import stopwords\n",
    "from nltk.stem import WordNetLemmatizer\n",
    "from sklearn.preprocessing import LabelEncoder\n",
    "from collections import defaultdict\n",
    "from nltk.corpus import wordnet as wn\n",
    "from sklearn.feature_extraction.text import TfidfVectorizer\n",
    "from sklearn import model_selection, naive_bayes, svm\n",
    "from sklearn.metrics import accuracy_score\n",
    "from sklearn.feature_extraction.text import TfidfVectorizer\n",
    "from sklearn.model_selection import train_test_split\n",
    "from sklearn.metrics import confusion_matrix, accuracy_score, classification_report\n",
    "import warnings\n",
    "warnings.filterwarnings('ignore')"
   ]
  },
  {
   "cell_type": "code",
   "execution_count": 2,
   "metadata": {},
   "outputs": [
    {
     "data": {
      "text/html": [
       "<div>\n",
       "<style scoped>\n",
       "    .dataframe tbody tr th:only-of-type {\n",
       "        vertical-align: middle;\n",
       "    }\n",
       "\n",
       "    .dataframe tbody tr th {\n",
       "        vertical-align: top;\n",
       "    }\n",
       "\n",
       "    .dataframe thead th {\n",
       "        text-align: right;\n",
       "    }\n",
       "</style>\n",
       "<table border=\"1\" class=\"dataframe\">\n",
       "  <thead>\n",
       "    <tr style=\"text-align: right;\">\n",
       "      <th></th>\n",
       "      <th>text</th>\n",
       "      <th>label</th>\n",
       "    </tr>\n",
       "  </thead>\n",
       "  <tbody>\n",
       "    <tr>\n",
       "      <th>0</th>\n",
       "      <td>yew hedge</td>\n",
       "      <td>1221</td>\n",
       "    </tr>\n",
       "    <tr>\n",
       "      <th>1</th>\n",
       "      <td>fire detection shop</td>\n",
       "      <td>19</td>\n",
       "    </tr>\n",
       "    <tr>\n",
       "      <th>2</th>\n",
       "      <td>cheap couch roll</td>\n",
       "      <td>398</td>\n",
       "    </tr>\n",
       "    <tr>\n",
       "      <th>3</th>\n",
       "      <td>extra watermelon gum</td>\n",
       "      <td>1108</td>\n",
       "    </tr>\n",
       "    <tr>\n",
       "      <th>4</th>\n",
       "      <td>used generators for sale uk</td>\n",
       "      <td>213</td>\n",
       "    </tr>\n",
       "  </tbody>\n",
       "</table>\n",
       "</div>"
      ],
      "text/plain": [
       "                          text  label\n",
       "0                    yew hedge   1221\n",
       "1          fire detection shop     19\n",
       "2             cheap couch roll    398\n",
       "3         extra watermelon gum   1108\n",
       "4  used generators for sale uk    213"
      ]
     },
     "execution_count": 2,
     "metadata": {},
     "output_type": "execute_result"
    }
   ],
   "source": [
    "df = pd.read_csv('trainSet.csv', names=['text', 'label'], header=None)\n",
    "df.head()"
   ]
  },
  {
   "cell_type": "code",
   "execution_count": 3,
   "metadata": {},
   "outputs": [
    {
     "data": {
      "text/plain": [
       "(606823, 2)"
      ]
     },
     "execution_count": 3,
     "metadata": {},
     "output_type": "execute_result"
    }
   ],
   "source": [
    "df.shape"
   ]
  },
  {
   "cell_type": "code",
   "execution_count": 4,
   "metadata": {},
   "outputs": [
    {
     "data": {
      "text/plain": [
       "1419"
      ]
     },
     "execution_count": 4,
     "metadata": {},
     "output_type": "execute_result"
    }
   ],
   "source": [
    "df['label'].nunique()"
   ]
  },
  {
   "cell_type": "code",
   "execution_count": 5,
   "metadata": {},
   "outputs": [
    {
     "data": {
      "text/plain": [
       "<matplotlib.axes._subplots.AxesSubplot at 0x10803b610>"
      ]
     },
     "execution_count": 5,
     "metadata": {},
     "output_type": "execute_result"
    },
    {
     "data": {
      "image/png": "[encoded data removed]",
      "text/plain": [
       "<Figure size 432x288 with 1 Axes>"
      ]
     },
     "metadata": {
      "needs_background": "light"
     },
     "output_type": "display_data"
    }
   ],
   "source": [
    "sns.distplot(df['label'].value_counts())"
   ]
  },
  {
   "cell_type": "code",
   "execution_count": 6,
   "metadata": {},
   "outputs": [
    {
     "data": {
      "text/plain": [
       "count    1419.000000\n",
       "mean      427.641297\n",
       "std       128.526016\n",
       "min         4.000000\n",
       "25%       338.500000\n",
       "50%       461.000000\n",
       "75%       530.000000\n",
       "max       623.000000\n",
       "Name: label, dtype: float64"
      ]
     },
     "execution_count": 6,
     "metadata": {},
     "output_type": "execute_result"
    }
   ],
   "source": [
    "df['label'].value_counts().describe()"
   ]
  },
  {
   "cell_type": "code",
   "execution_count": 7,
   "metadata": {},
   "outputs": [
    {
     "data": {
      "text/plain": [
       "461.0"
      ]
     },
     "execution_count": 7,
     "metadata": {},
     "output_type": "execute_result"
    }
   ],
   "source": [
    "df['label'].value_counts().median()"
   ]
  },
  {
   "cell_type": "markdown",
   "metadata": {},
   "source": [
    "* Frequency of labels has a mean of 427, median 461 (more relevant to this distribution since it is left skewed). \n",
    "* variance of the frequency of labels is high. we could later on try to merge some low frequency labels and see if that has any impact on accuracy and other evaluation metircs of the algorithm that we select\n",
    "* it is advisable not to delete the rows containing low frequency labels because that will have a bearing on accuracy of scoring"
   ]
  },
  {
   "cell_type": "code",
   "execution_count": 8,
   "metadata": {},
   "outputs": [],
   "source": [
    "np.random.seed(500)"
   ]
  },
  {
   "cell_type": "markdown",
   "metadata": {},
   "source": [
    "* Pre-Processing"
   ]
  },
  {
   "cell_type": "code",
   "execution_count": 9,
   "metadata": {},
   "outputs": [
    {
     "data": {
      "text/plain": [
       "text     0\n",
       "label    0\n",
       "dtype: int64"
      ]
     },
     "execution_count": 9,
     "metadata": {},
     "output_type": "execute_result"
    }
   ],
   "source": [
    "df.isnull().sum()"
   ]
  },
  {
   "cell_type": "markdown",
   "metadata": {},
   "source": [
    "* Remove blank rows if any. There aren't any, but just in case the model in used in the future on a different training dataset"
   ]
  },
  {
   "cell_type": "code",
   "execution_count": 10,
   "metadata": {},
   "outputs": [],
   "source": [
    "df['text'].dropna(inplace=True)"
   ]
  },
  {
   "cell_type": "markdown",
   "metadata": {},
   "source": [
    "* Change all the text to lower case"
   ]
  },
  {
   "cell_type": "code",
   "execution_count": 11,
   "metadata": {},
   "outputs": [],
   "source": [
    "df['text'] = [entry.lower() for entry in df['text']]"
   ]
  },
  {
   "cell_type": "markdown",
   "metadata": {},
   "source": [
    "* Remove punctuation"
   ]
  },
  {
   "cell_type": "code",
   "execution_count": 12,
   "metadata": {},
   "outputs": [],
   "source": [
    "import string\n",
    "\n",
    "\n",
    "PUNCT_TO_REMOVE = string.punctuation\n",
    "def remove_punctuation(text):\n",
    "    \"\"\"custom function to remove the punctuation\"\"\"\n",
    "    return text.translate(str.maketrans('', '', PUNCT_TO_REMOVE))\n",
    "\n",
    "df['text'] = df['text'].apply(lambda text: remove_punctuation(text))"
   ]
  },
  {
   "cell_type": "markdown",
   "metadata": {},
   "source": [
    "* Remove stopwords"
   ]
  },
  {
   "cell_type": "code",
   "execution_count": 13,
   "metadata": {},
   "outputs": [],
   "source": [
    "from nltk.corpus import stopwords\n",
    "\n",
    "STOPWORDS = set(stopwords.words('english'))\n",
    "def remove_stopwords(text):\n",
    "    \"\"\"custom function to remove the stopwords\"\"\"\n",
    "    return \" \".join([word for word in str(text).split() if word not in STOPWORDS])\n",
    "\n",
    "df['text'] = df['text'].apply(lambda text: remove_stopwords(text))"
   ]
  },
  {
   "cell_type": "markdown",
   "metadata": {},
   "source": [
    "* Remove frequent words"
   ]
  },
  {
   "cell_type": "code",
   "execution_count": 14,
   "metadata": {},
   "outputs": [],
   "source": [
    "from collections import Counter\n",
    "cnt = Counter()\n",
    "\n",
    "FREQWORDS = set([w for (w, wc) in cnt.most_common(10)])\n",
    "def remove_freqwords(text):\n",
    "    \"\"\"custom function to remove the frequent words\"\"\"\n",
    "    return \" \".join([word for word in str(text).split() if word not in FREQWORDS])\n",
    "\n",
    "df['text'] = df['text'].apply(lambda text: remove_freqwords(text))"
   ]
  },
  {
   "cell_type": "markdown",
   "metadata": {},
   "source": [
    "* Remove rare words"
   ]
  },
  {
   "cell_type": "code",
   "execution_count": 15,
   "metadata": {},
   "outputs": [],
   "source": [
    "n_rare_words = 10\n",
    "RAREWORDS = set([w for (w, wc) in cnt.most_common()[:-n_rare_words-1:-1]])\n",
    "def remove_rarewords(text):\n",
    "    \"\"\"custom function to remove the rare words\"\"\"\n",
    "    return \" \".join([word for word in str(text).split() if word not in RAREWORDS])\n",
    "\n",
    "df['text'] = df['text'].apply(lambda text: remove_rarewords(text))"
   ]
  },
  {
   "cell_type": "markdown",
   "metadata": {},
   "source": [
    "* Stemming"
   ]
  },
  {
   "cell_type": "code",
   "execution_count": 16,
   "metadata": {},
   "outputs": [],
   "source": [
    "from nltk.stem.porter import PorterStemmer\n",
    "\n",
    "\n",
    "stemmer = PorterStemmer()\n",
    "def stem_words(text):\n",
    "    return \" \".join([stemmer.stem(word) for word in text.split()])\n",
    "\n",
    "df['text'] = df['text'].apply(lambda text: stem_words(text))"
   ]
  },
  {
   "cell_type": "markdown",
   "metadata": {},
   "source": [
    "* Word-Net Lemmatizer\n",
    "<br>\n",
    "(This takes for ever, even when less training data is selected. As such it is the first item taken out from the MVP. But included here for the purposes of discussion)"
   ]
  },
  {
   "cell_type": "code",
   "execution_count": 17,
   "metadata": {},
   "outputs": [],
   "source": [
    "# from nltk.stem import WordNetLemmatizer\n",
    "\n",
    "# lemmatizer = WordNetLemmatizer()\n",
    "# def lemmatize_words(text):\n",
    "#     return \" \".join([lemmatizer.lemmatize(word) for word in text.split()])\n",
    "\n",
    "# df['text'] = df['text'].apply(lambda text: lemmatize_words(text))\n",
    "\n",
    "# from nltk.corpus import wordnet\n",
    "# from nltk.stem import WordNetLemmatizer\n",
    "# import nltk\n",
    "\n",
    "# lemmatizer = WordNetLemmatizer()\n",
    "# wordnet_map = {\"N\":wordnet.NOUN, \"V\":wordnet.VERB, \"J\":wordnet.ADJ, \"R\":wordnet.ADV}\n",
    "# def lemmatize_words(text):\n",
    "#     pos_tagged_text = nltk.pos_tag(text.split())\n",
    "#     return \" \".join([lemmatizer.lemmatize(word, wordnet_map.get(pos[0], wordnet.NOUN)) for word, pos in pos_tagged_text])\n",
    "\n",
    "# df['text'] = df['text'].apply(lambda text: lemmatize_words(text))"
   ]
  },
  {
   "cell_type": "markdown",
   "metadata": {},
   "source": [
    "* looking at some examples to see how the impact of skipping lemmatization in our model"
   ]
  },
  {
   "cell_type": "code",
   "execution_count": 166,
   "metadata": {},
   "outputs": [
    {
     "data": {
      "text/html": [
       "<div>\n",
       "<style scoped>\n",
       "    .dataframe tbody tr th:only-of-type {\n",
       "        vertical-align: middle;\n",
       "    }\n",
       "\n",
       "    .dataframe tbody tr th {\n",
       "        vertical-align: top;\n",
       "    }\n",
       "\n",
       "    .dataframe thead th {\n",
       "        text-align: right;\n",
       "    }\n",
       "</style>\n",
       "<table border=\"1\" class=\"dataframe\">\n",
       "  <thead>\n",
       "    <tr style=\"text-align: right;\">\n",
       "      <th></th>\n",
       "      <th>text</th>\n",
       "      <th>label</th>\n",
       "    </tr>\n",
       "  </thead>\n",
       "  <tbody>\n",
       "    <tr>\n",
       "      <th>4</th>\n",
       "      <td>used generators sale uk</td>\n",
       "      <td>213</td>\n",
       "    </tr>\n",
       "    <tr>\n",
       "      <th>2488</th>\n",
       "      <td>tesla generator</td>\n",
       "      <td>213</td>\n",
       "    </tr>\n",
       "    <tr>\n",
       "      <th>4357</th>\n",
       "      <td>markon generator</td>\n",
       "      <td>213</td>\n",
       "    </tr>\n",
       "    <tr>\n",
       "      <th>6508</th>\n",
       "      <td>30 kva generator</td>\n",
       "      <td>213</td>\n",
       "    </tr>\n",
       "    <tr>\n",
       "      <th>7273</th>\n",
       "      <td>second hand generators sale uk</td>\n",
       "      <td>213</td>\n",
       "    </tr>\n",
       "    <tr>\n",
       "      <th>...</th>\n",
       "      <td>...</td>\n",
       "      <td>...</td>\n",
       "    </tr>\n",
       "    <tr>\n",
       "      <th>602370</th>\n",
       "      <td>top magnetic generator</td>\n",
       "      <td>213</td>\n",
       "    </tr>\n",
       "    <tr>\n",
       "      <th>602845</th>\n",
       "      <td>simply generators</td>\n",
       "      <td>213</td>\n",
       "    </tr>\n",
       "    <tr>\n",
       "      <th>603264</th>\n",
       "      <td>pramac p11000</td>\n",
       "      <td>213</td>\n",
       "    </tr>\n",
       "    <tr>\n",
       "      <th>605944</th>\n",
       "      <td>medusa generator</td>\n",
       "      <td>213</td>\n",
       "    </tr>\n",
       "    <tr>\n",
       "      <th>606341</th>\n",
       "      <td>goal zero yeti 150</td>\n",
       "      <td>213</td>\n",
       "    </tr>\n",
       "  </tbody>\n",
       "</table>\n",
       "<p>536 rows × 2 columns</p>\n",
       "</div>"
      ],
      "text/plain": [
       "                                  text  label\n",
       "4              used generators sale uk    213\n",
       "2488                   tesla generator    213\n",
       "4357                  markon generator    213\n",
       "6508                  30 kva generator    213\n",
       "7273    second hand generators sale uk    213\n",
       "...                                ...    ...\n",
       "602370          top magnetic generator    213\n",
       "602845               simply generators    213\n",
       "603264                   pramac p11000    213\n",
       "605944                medusa generator    213\n",
       "606341              goal zero yeti 150    213\n",
       "\n",
       "[536 rows x 2 columns]"
      ]
     },
     "execution_count": 166,
     "metadata": {},
     "output_type": "execute_result"
    }
   ],
   "source": [
    "df[df['label']==213]"
   ]
  },
  {
   "cell_type": "markdown",
   "metadata": {},
   "source": [
    "* Looking at the above example of label 213, if we do NOT lemmatize the text column then 'generator' and 'generators' will have two separator columns upon vectorization. that increases the dimentionality of the data unnecessarily without increasing accuracy of prediction (because there is little semantic difference between a singular and a plural). in order to limit dimentionality and make the final model run faster it is better to do lemmatization during training of the data. so there is a trade off: lemmatizing increases training time but decreases scoring time, and more importantly the scoring will be more accurate. so if we are running batch process then we could opt for lemmatization. if we are dealing with real-time classification of search terms then lemmatization is not a good idea in this case. \n",
    "* in practice i tried lemmatization but it did not improve accuracy at test stage!!!"
   ]
  },
  {
   "cell_type": "markdown",
   "metadata": {},
   "source": [
    "* Tf-Idf Word Embedding"
   ]
  },
  {
   "cell_type": "code",
   "execution_count": 18,
   "metadata": {},
   "outputs": [],
   "source": [
    "# if we dont specify max_features the vectorizer builds a vocabulary that only consider the top max_features ordered by term frequency across the corpus\n",
    "tfidf = TfidfVectorizer()"
   ]
  },
  {
   "cell_type": "markdown",
   "metadata": {},
   "source": [
    "* we choose tf-idf vectorization since we have labelled data\n",
    "* accuracy score of the model depends on the max_features in this vectorizer. accuracy was found to vary from 50% to 56% (for naive bayes multinomial calssifier) as we vary the number of max_features from around 5000 to 150k.  \n",
    "* tf-idf values depend not only on the count of a specific word in the search term but also on the count of that specific word in the overall corpus. so it tells the classifier somewhat similar info as the countvectorizer does in our context because a typical search term will not have multiple occurances of a particular word. in theory therefore countvectorizer should be able to perform just as well as tf-idf for our classification.\n",
    "* compared to 55% accuracy in case of tf-idf (mx_features as default), countvectorizer gives 53% accuracy."
   ]
  },
  {
   "cell_type": "code",
   "execution_count": 20,
   "metadata": {},
   "outputs": [],
   "source": [
    "X_train, X_test, y_train, y_test = train_test_split(df.text, df.label, test_size=0.33, random_state=42)"
   ]
  },
  {
   "cell_type": "code",
   "execution_count": 21,
   "metadata": {},
   "outputs": [],
   "source": [
    "X_train_mat = tfidf.fit_transform(X_train)\n",
    "X_test_mat = tfidf.transform(X_test)"
   ]
  },
  {
   "cell_type": "markdown",
   "metadata": {},
   "source": [
    "* Models"
   ]
  },
  {
   "cell_type": "code",
   "execution_count": 22,
   "metadata": {},
   "outputs": [
    {
     "name": "stdout",
     "output_type": "stream",
     "text": [
      "SGD Accuracy Score ->  54.02293110680543\n"
     ]
    }
   ],
   "source": [
    "# Try SGDClassifier\n",
    "# Takes 15 minutes on my machine to train and test. Returns accuracy of 54%\n",
    "\n",
    "from sklearn.linear_model import SGDClassifier\n",
    "\n",
    "sgd = SGDClassifier()\n",
    "sgd.fit(X_train_mat,y_train)\n",
    "# predict the labels on validation dataset\n",
    "predictions_sgd = sgd.predict(X_test_mat)\n",
    "# Use accuracy_score function to get the accuracy\n",
    "print(\"SGD Accuracy Score -> \",accuracy_score(predictions_sgd, y_test)*100)"
   ]
  },
  {
   "cell_type": "code",
   "execution_count": 23,
   "metadata": {},
   "outputs": [
    {
     "name": "stdout",
     "output_type": "stream",
     "text": [
      "Naive Bayes Accuracy Score ->  55.47659948464935\n"
     ]
    }
   ],
   "source": [
    "# Try Naive Bayes Multinomial classifier\n",
    "# Takes 15 seconds on my machine to train and test. Returns accuracy of 55%\n",
    "\n",
    "Naive = naive_bayes.MultinomialNB()\n",
    "Naive.fit(X_train_mat,y_train)\n",
    "# predict the labels on validation dataset\n",
    "predictions_NB = Naive.predict(X_test_mat)\n",
    "# Use accuracy_score function to get the accuracy\n",
    "print(\"Naive Bayes Accuracy Score -> \",accuracy_score(predictions_NB, y_test)*100)"
   ]
  },
  {
   "cell_type": "code",
   "execution_count": 24,
   "metadata": {},
   "outputs": [
    {
     "name": "stdout",
     "output_type": "stream",
     "text": [
      "OVR Accuracy Score ->  61.61236841579609\n"
     ]
    }
   ],
   "source": [
    "# Try OneVsRestClassifier\n",
    "# Takes 18 minutes on my machine to train and test. Returns accuracy of 62%\n",
    "\n",
    "from sklearn.multiclass import OneVsRestClassifier\n",
    "from sklearn.svm import LinearSVC\n",
    "\n",
    "y_pred_ovrc = OneVsRestClassifier(LinearSVC(random_state=0)).fit(X_train_mat,y_train).predict(X_test_mat)\n",
    "\n",
    "print(\"OVR Accuracy Score -> \",accuracy_score(y_pred_ovrc, y_test)*100) "
   ]
  },
  {
   "cell_type": "code",
   "execution_count": null,
   "metadata": {},
   "outputs": [],
   "source": [
    "# Random Forest and Logistic Regression are not appropriate models here. They were tested nevertheless. \n",
    "# Apart from being inappropriate here they take too long to run and the accuracy returned is low"
   ]
  },
  {
   "cell_type": "markdown",
   "metadata": {},
   "source": [
    "* Naive Bayes Multinomial performs well in multi class classification. When assumption of independence holds (and our search terms can be presumed to be independent of each other ... from the perspective of where they have been sourced from), a Naive Bayes classifier performs better compare to other multi-class classification models and you need less training data.\n",
    "* In terms of model choice so far Naive Bayes Multinomial is a winner. It takes 15 seconds to train and test the entire dataset. However the pre-processing take a couple of minutes. We did not try lemmatizing because that takes for ever. We skipped lemmatizing therefore. I am below testing same naive bayes model on the data without some of the other pre-processing items such as stemming, removing punctuation/stopwords/rare words/frequent words etc\n",
    "* As was tested below, it takes 18 seconds to train and test, far less time than when we do the above mentioned pre-processing items. Furthermore without pre-processing scenario (with only the vectorization) returns similar accuracy level of 55% as was the case in pre-processing scenario\n",
    "* Key take away from this comparison is that a lot of preprocessing items are redundant and not yielding any higher accuracy. Therefore we should straightaway go for vectorization of the search terms "
   ]
  },
  {
   "cell_type": "markdown",
   "metadata": {},
   "source": [
    "  "
   ]
  },
  {
   "cell_type": "markdown",
   "metadata": {},
   "source": [
    " "
   ]
  },
  {
   "cell_type": "markdown",
   "metadata": {},
   "source": [
    " "
   ]
  },
  {
   "cell_type": "markdown",
   "metadata": {},
   "source": [
    "# 2. Suggested trimmed down version of MVP"
   ]
  },
  {
   "cell_type": "code",
   "execution_count": 46,
   "metadata": {},
   "outputs": [
    {
     "name": "stdout",
     "output_type": "stream",
     "text": [
      "Naive Bayes Accuracy Score ->  55.39620078700837\n"
     ]
    }
   ],
   "source": [
    "# Takes 18 seconds to pre-process data, train on data and test\n",
    "# Returns similar accuracy level of 55% despite skipping a lot of the conventional pre-processing items\n",
    "\n",
    "df= pd.read_csv('trainSet.csv', header=None, names=['text', 'label'])\n",
    "np.random.seed(500)\n",
    "df['text'].dropna(inplace=True)\n",
    "df['text'] = [entry.lower() for entry in df['text']]\n",
    "X_train, X_test, y_train, y_test = train_test_split(df.text, df.label, test_size=0.33, random_state=42)\n",
    "tfidf = TfidfVectorizer() \n",
    "X_train_mat = tfidf.fit_transform(X_train)\n",
    "X_test_mat = tfidf.transform(X_test)\n",
    "# fit the training dataset on the NB classifier\n",
    "Naive = naive_bayes.MultinomialNB()\n",
    "Naive.fit(X_train_mat,y_train)\n",
    "# predict the labels on validation dataset\n",
    "predictions_NB = Naive.predict(X_test_mat)\n",
    "# Use accuracy_score function to get the accuracy\n",
    "print(\"Naive Bayes Accuracy Score -> \",accuracy_score(predictions_NB, y_test)*100)"
   ]
  },
  {
   "cell_type": "markdown",
   "metadata": {},
   "source": [
    "* classification report"
   ]
  },
  {
   "cell_type": "code",
   "execution_count": 47,
   "metadata": {},
   "outputs": [
    {
     "data": {
      "text/html": [
       "<div>\n",
       "<style scoped>\n",
       "    .dataframe tbody tr th:only-of-type {\n",
       "        vertical-align: middle;\n",
       "    }\n",
       "\n",
       "    .dataframe tbody tr th {\n",
       "        vertical-align: top;\n",
       "    }\n",
       "\n",
       "    .dataframe thead th {\n",
       "        text-align: right;\n",
       "    }\n",
       "</style>\n",
       "<table border=\"1\" class=\"dataframe\">\n",
       "  <thead>\n",
       "    <tr style=\"text-align: right;\">\n",
       "      <th></th>\n",
       "      <th>precision</th>\n",
       "      <th>recall</th>\n",
       "      <th>f1-score</th>\n",
       "      <th>support</th>\n",
       "    </tr>\n",
       "  </thead>\n",
       "  <tbody>\n",
       "    <tr>\n",
       "      <th>453</th>\n",
       "      <td>0.873418</td>\n",
       "      <td>0.938776</td>\n",
       "      <td>0.904918</td>\n",
       "      <td>147.0</td>\n",
       "    </tr>\n",
       "    <tr>\n",
       "      <th>533</th>\n",
       "      <td>0.876147</td>\n",
       "      <td>0.841410</td>\n",
       "      <td>0.858427</td>\n",
       "      <td>227.0</td>\n",
       "    </tr>\n",
       "    <tr>\n",
       "      <th>617</th>\n",
       "      <td>0.847826</td>\n",
       "      <td>0.862832</td>\n",
       "      <td>0.855263</td>\n",
       "      <td>226.0</td>\n",
       "    </tr>\n",
       "    <tr>\n",
       "      <th>1130</th>\n",
       "      <td>0.881517</td>\n",
       "      <td>0.830357</td>\n",
       "      <td>0.855172</td>\n",
       "      <td>224.0</td>\n",
       "    </tr>\n",
       "    <tr>\n",
       "      <th>964</th>\n",
       "      <td>0.770642</td>\n",
       "      <td>0.954545</td>\n",
       "      <td>0.852792</td>\n",
       "      <td>88.0</td>\n",
       "    </tr>\n",
       "    <tr>\n",
       "      <th>320</th>\n",
       "      <td>0.912281</td>\n",
       "      <td>0.800000</td>\n",
       "      <td>0.852459</td>\n",
       "      <td>195.0</td>\n",
       "    </tr>\n",
       "    <tr>\n",
       "      <th>1024</th>\n",
       "      <td>0.834146</td>\n",
       "      <td>0.859296</td>\n",
       "      <td>0.846535</td>\n",
       "      <td>199.0</td>\n",
       "    </tr>\n",
       "    <tr>\n",
       "      <th>264</th>\n",
       "      <td>0.793651</td>\n",
       "      <td>0.900901</td>\n",
       "      <td>0.843882</td>\n",
       "      <td>111.0</td>\n",
       "    </tr>\n",
       "    <tr>\n",
       "      <th>501</th>\n",
       "      <td>0.878453</td>\n",
       "      <td>0.811224</td>\n",
       "      <td>0.843501</td>\n",
       "      <td>196.0</td>\n",
       "    </tr>\n",
       "    <tr>\n",
       "      <th>669</th>\n",
       "      <td>0.752137</td>\n",
       "      <td>0.946237</td>\n",
       "      <td>0.838095</td>\n",
       "      <td>93.0</td>\n",
       "    </tr>\n",
       "  </tbody>\n",
       "</table>\n",
       "</div>"
      ],
      "text/plain": [
       "      precision    recall  f1-score  support\n",
       "453    0.873418  0.938776  0.904918    147.0\n",
       "533    0.876147  0.841410  0.858427    227.0\n",
       "617    0.847826  0.862832  0.855263    226.0\n",
       "1130   0.881517  0.830357  0.855172    224.0\n",
       "964    0.770642  0.954545  0.852792     88.0\n",
       "320    0.912281  0.800000  0.852459    195.0\n",
       "1024   0.834146  0.859296  0.846535    199.0\n",
       "264    0.793651  0.900901  0.843882    111.0\n",
       "501    0.878453  0.811224  0.843501    196.0\n",
       "669    0.752137  0.946237  0.838095     93.0"
      ]
     },
     "execution_count": 47,
     "metadata": {},
     "output_type": "execute_result"
    }
   ],
   "source": [
    "# top 10 labels by f1-score\n",
    "report_df = pd.DataFrame(classification_report(predictions_NB, y_test, output_dict=True)).transpose()\n",
    "report_df.sort_values(by='f1-score', ascending=False).head(10)"
   ]
  },
  {
   "cell_type": "markdown",
   "metadata": {},
   "source": [
    "* we could extract three differnt streams of info here: recall specific, precision specific, a weighted-average specific (f1-score). that depends on the preferences of the clients. those who want to grab as much market/visibility during search as possible we can go for high recall approach. we can find out from this table which labels we are able to get a high recall on. similarly those clients who prefer a better conversion rate of a higher contextual similarity with the search term we can go for the high precision approach and share the high precision labels with them. "
   ]
  },
  {
   "cell_type": "markdown",
   "metadata": {},
   "source": [
    " "
   ]
  },
  {
   "cell_type": "markdown",
   "metadata": {},
   "source": [
    " "
   ]
  },
  {
   "cell_type": "markdown",
   "metadata": {},
   "source": [
    " "
   ]
  },
  {
   "cell_type": "markdown",
   "metadata": {},
   "source": [
    "# 3. Lessons from MVP\n",
    "* A lot of the conventional nlp related pre-processing does not bring about any tangible improvement in the prediction accuracy of the model in this case\n",
    "* Stemming, removal of punctuation/stopwords/rare words/frequent words does not help improve accuracy of the model. In fact removing rare and frequent words might do harm to our model because those rare/frequent words might be critical to the context of the search term. Other stuff like removing numeric data will not help because they are also relevant search terms and are common while refering to model numbers of products etc etc\n",
    "* Lemmatization has not helped improve accuracy in practice. However in theory it is a much better pre-processing option than most other options. It can reduce dimentionality in our feature set. But it takes a lot of memory. Lemmatization is not a good option here unless we are going to do batch process mainly\n",
    "* The idea of merging labels could be tried. But as can be demonstrated below, it worsens the predicting power of the algorithm\n",
    "* Pre-processing analysis tells us that this problem is more a multiclass classification problem than an nlp problem. It must therefore be approached as such.\n",
    "* It seems that word vectorization is the main data processing that is relevent here. \n",
    "* In terms of model, Naive Bayes Multinomial is giving a near real-time performance. Given sufficient cpu power this model can be deployed in real time in large search traffic environments"
   ]
  },
  {
   "cell_type": "markdown",
   "metadata": {},
   "source": [
    " "
   ]
  },
  {
   "cell_type": "markdown",
   "metadata": {},
   "source": [
    " "
   ]
  },
  {
   "cell_type": "markdown",
   "metadata": {},
   "source": [
    "<<<<<<<<<<<<<<<<<<<<<<<<<<<<<<<<<<<<<<<<<<<>>>>>>>>>>>>>>>>>>>>>>>>>>>>>>>>>>>>>>>>>>>>>>>>>>>>>>>>>>>>>"
   ]
  },
  {
   "cell_type": "markdown",
   "metadata": {},
   "source": [
    "##### Lets us test merging low frequency labels and see if that improves accuracy\n",
    "* We will try one more item of pre-processing: merging low frequency labels\n",
    "* lets see if that improves accuracy"
   ]
  },
  {
   "cell_type": "code",
   "execution_count": 28,
   "metadata": {},
   "outputs": [
    {
     "data": {
      "text/plain": [
       "54      623\n",
       "1026    609\n",
       "39      609\n",
       "291     608\n",
       "533     607\n",
       "       ... \n",
       "173      16\n",
       "1309     14\n",
       "554      14\n",
       "826      10\n",
       "587       4\n",
       "Name: label, Length: 1419, dtype: int64"
      ]
     },
     "execution_count": 28,
     "metadata": {},
     "output_type": "execute_result"
    }
   ],
   "source": [
    "df.label.value_counts()"
   ]
  },
  {
   "cell_type": "code",
   "execution_count": 30,
   "metadata": {},
   "outputs": [
    {
     "data": {
      "text/plain": [
       "count    1419.000000\n",
       "mean      427.641297\n",
       "std       128.526016\n",
       "min         4.000000\n",
       "25%       338.500000\n",
       "50%       461.000000\n",
       "75%       530.000000\n",
       "max       623.000000\n",
       "Name: label, dtype: float64"
      ]
     },
     "execution_count": 30,
     "metadata": {},
     "output_type": "execute_result"
    }
   ],
   "source": [
    "df.label.value_counts().describe()"
   ]
  },
  {
   "cell_type": "markdown",
   "metadata": {},
   "source": [
    "* so lets keep those labels which have frequency of 300 or above. that would be about 25% of the labels in the dataset. so those with less than 300 frequency we put under one label. we keep all the high frequency labels because those terms frequently searched and hence might threfore be important (commercially as well as statistically)"
   ]
  },
  {
   "cell_type": "code",
   "execution_count": 29,
   "metadata": {},
   "outputs": [
    {
     "data": {
      "text/plain": [
       "263"
      ]
     },
     "execution_count": 29,
     "metadata": {},
     "output_type": "execute_result"
    }
   ],
   "source": [
    "our_labels=[]\n",
    "for x in df['label'].unique():\n",
    "    if (df['label'] == x).sum() < 300:\n",
    "        our_labels.append(x)\n",
    "len(our_labels)"
   ]
  },
  {
   "cell_type": "markdown",
   "metadata": {},
   "source": [
    "* there are 263 such labels whose frequency in the dataset falls below 300"
   ]
  },
  {
   "cell_type": "code",
   "execution_count": 31,
   "metadata": {},
   "outputs": [],
   "source": [
    "# relabel them as '5000'\n",
    "\n",
    "df.loc[df['label'].isin(our_labels), 'label'] = 5000"
   ]
  },
  {
   "cell_type": "code",
   "execution_count": 33,
   "metadata": {},
   "outputs": [
    {
     "data": {
      "text/html": [
       "<div>\n",
       "<style scoped>\n",
       "    .dataframe tbody tr th:only-of-type {\n",
       "        vertical-align: middle;\n",
       "    }\n",
       "\n",
       "    .dataframe tbody tr th {\n",
       "        vertical-align: top;\n",
       "    }\n",
       "\n",
       "    .dataframe thead th {\n",
       "        text-align: right;\n",
       "    }\n",
       "</style>\n",
       "<table border=\"1\" class=\"dataframe\">\n",
       "  <thead>\n",
       "    <tr style=\"text-align: right;\">\n",
       "      <th></th>\n",
       "      <th>text</th>\n",
       "      <th>label</th>\n",
       "    </tr>\n",
       "  </thead>\n",
       "  <tbody>\n",
       "    <tr>\n",
       "      <th>497886</th>\n",
       "      <td>garden roller for sale</td>\n",
       "      <td>1410</td>\n",
       "    </tr>\n",
       "    <tr>\n",
       "      <th>575287</th>\n",
       "      <td>porady prawne darmowe</td>\n",
       "      <td>5000</td>\n",
       "    </tr>\n",
       "    <tr>\n",
       "      <th>568572</th>\n",
       "      <td>potting sheds uk</td>\n",
       "      <td>396</td>\n",
       "    </tr>\n",
       "    <tr>\n",
       "      <th>587862</th>\n",
       "      <td>slimming world vegetarian cookbook</td>\n",
       "      <td>679</td>\n",
       "    </tr>\n",
       "    <tr>\n",
       "      <th>273091</th>\n",
       "      <td>small jewelry box</td>\n",
       "      <td>1226</td>\n",
       "    </tr>\n",
       "    <tr>\n",
       "      <th>267186</th>\n",
       "      <td>apple audiobooks</td>\n",
       "      <td>460</td>\n",
       "    </tr>\n",
       "    <tr>\n",
       "      <th>582937</th>\n",
       "      <td>boot sale app</td>\n",
       "      <td>414</td>\n",
       "    </tr>\n",
       "    <tr>\n",
       "      <th>107686</th>\n",
       "      <td>gardeners cardiff</td>\n",
       "      <td>1316</td>\n",
       "    </tr>\n",
       "    <tr>\n",
       "      <th>10036</th>\n",
       "      <td>time share prices</td>\n",
       "      <td>1360</td>\n",
       "    </tr>\n",
       "    <tr>\n",
       "      <th>396857</th>\n",
       "      <td>british army food</td>\n",
       "      <td>466</td>\n",
       "    </tr>\n",
       "    <tr>\n",
       "      <th>218062</th>\n",
       "      <td>slumber party invitations</td>\n",
       "      <td>1169</td>\n",
       "    </tr>\n",
       "    <tr>\n",
       "      <th>86682</th>\n",
       "      <td>large plant pots</td>\n",
       "      <td>1332</td>\n",
       "    </tr>\n",
       "    <tr>\n",
       "      <th>261881</th>\n",
       "      <td>retirement homes for sale</td>\n",
       "      <td>1361</td>\n",
       "    </tr>\n",
       "    <tr>\n",
       "      <th>571353</th>\n",
       "      <td>le breve</td>\n",
       "      <td>5000</td>\n",
       "    </tr>\n",
       "    <tr>\n",
       "      <th>545356</th>\n",
       "      <td>ultra pro binder</td>\n",
       "      <td>762</td>\n",
       "    </tr>\n",
       "    <tr>\n",
       "      <th>72212</th>\n",
       "      <td>snapfish postcards</td>\n",
       "      <td>626</td>\n",
       "    </tr>\n",
       "    <tr>\n",
       "      <th>5678</th>\n",
       "      <td>sea fishing kayak</td>\n",
       "      <td>268</td>\n",
       "    </tr>\n",
       "    <tr>\n",
       "      <th>344118</th>\n",
       "      <td>camera enforcement vehicle</td>\n",
       "      <td>675</td>\n",
       "    </tr>\n",
       "    <tr>\n",
       "      <th>575856</th>\n",
       "      <td>gyms in gosport</td>\n",
       "      <td>27</td>\n",
       "    </tr>\n",
       "    <tr>\n",
       "      <th>65454</th>\n",
       "      <td>60 balloons</td>\n",
       "      <td>1241</td>\n",
       "    </tr>\n",
       "  </tbody>\n",
       "</table>\n",
       "</div>"
      ],
      "text/plain": [
       "                                      text  label\n",
       "497886              garden roller for sale   1410\n",
       "575287               porady prawne darmowe   5000\n",
       "568572                    potting sheds uk    396\n",
       "587862  slimming world vegetarian cookbook    679\n",
       "273091                   small jewelry box   1226\n",
       "267186                    apple audiobooks    460\n",
       "582937                       boot sale app    414\n",
       "107686                   gardeners cardiff   1316\n",
       "10036                    time share prices   1360\n",
       "396857                   british army food    466\n",
       "218062           slumber party invitations   1169\n",
       "86682                     large plant pots   1332\n",
       "261881           retirement homes for sale   1361\n",
       "571353                            le breve   5000\n",
       "545356                    ultra pro binder    762\n",
       "72212                   snapfish postcards    626\n",
       "5678                     sea fishing kayak    268\n",
       "344118          camera enforcement vehicle    675\n",
       "575856                     gyms in gosport     27\n",
       "65454                          60 balloons   1241"
      ]
     },
     "execution_count": 33,
     "metadata": {},
     "output_type": "execute_result"
    }
   ],
   "source": [
    "df.sample(20)"
   ]
  },
  {
   "cell_type": "code",
   "execution_count": 35,
   "metadata": {},
   "outputs": [
    {
     "data": {
      "text/plain": [
       "56762"
      ]
     },
     "execution_count": 35,
     "metadata": {},
     "output_type": "execute_result"
    }
   ],
   "source": [
    "# of some 600k search terms about 56k have now been merged under one label '5000'\n",
    "\n",
    "(df['label']==5000).sum()"
   ]
  },
  {
   "cell_type": "markdown",
   "metadata": {},
   "source": [
    "* let us now see if this makes any difference to our model accuracy"
   ]
  },
  {
   "cell_type": "code",
   "execution_count": 36,
   "metadata": {},
   "outputs": [
    {
     "name": "stdout",
     "output_type": "stream",
     "text": [
      "Naive Bayes Accuracy Score ->  10.156702554780976\n"
     ]
    }
   ],
   "source": [
    "X_train, X_test, y_train, y_test = train_test_split(df.text, df.label, test_size=0.33, random_state=42)\n",
    "tfidf = TfidfVectorizer() \n",
    "X_train_mat = tfidf.fit_transform(X_train)\n",
    "X_test_mat = tfidf.transform(X_test)\n",
    "\n",
    "# fit the training dataset on the NB classifier\n",
    "Naive = naive_bayes.MultinomialNB()\n",
    "Naive.fit(X_train_mat,y_train)\n",
    "# predict the labels on validation dataset\n",
    "predictions_NB = Naive.predict(X_test_mat)\n",
    "# Use accuracy_score function to get the accuracy\n",
    "print(\"Naive Bayes Accuracy Score -> \",accuracy_score(predictions_NB, y_test)*100)"
   ]
  },
  {
   "cell_type": "markdown",
   "metadata": {},
   "source": [
    "* accuracy dropped from 55% to 10% when we merged the labels that have frequency less than 300. so merging those low frequency labels was not a good idea. \n",
    "* this implies that there is enough information in the less frequent labels that helps the classifier distinguish across the spectrum of labels better. so the less frequent labels serve an important purpose in the dataset. this also points to the need to train as much data as possible during training. capturing a wide variety of classes/labels seems critical to accuracy. \n",
    "* you could delete the less frequent labels from the dataset. but the problem is the accuracy of the predictions on the hold out set will be very low in that case. "
   ]
  },
  {
   "cell_type": "code",
   "execution_count": 37,
   "metadata": {},
   "outputs": [
    {
     "name": "stdout",
     "output_type": "stream",
     "text": [
      "mean recall  0.19801146433045663\n",
      "mean precision  0.009050422814751062\n",
      "mean f1-score  0.013742437714871035\n"
     ]
    }
   ],
   "source": [
    "# lets see what is happenning to recall/precision upon merging the low frequent labels\n",
    "\n",
    "report2 = classification_report(predictions_NB, y_test, output_dict=True)\n",
    "report_df2 = pd.DataFrame(report2).transpose()\n",
    "\n",
    "print('mean recall ',report_df2['recall'].mean())\n",
    "print('mean precision ',report_df2['precision'].mean())\n",
    "print('mean f1-score ',report_df2['f1-score'].mean())"
   ]
  },
  {
   "cell_type": "markdown",
   "metadata": {},
   "source": [
    "* it seems that with merging of low frequency labels under one label, both the average recall and average precision has gone down significantly. this is especially so in case of precision which has dropped dramatically. \n",
    "* there are cases with a very high recall and a very low precision. in such cases our our predictor/algorithm is predicting too many such labels, like throwing tonnes of mud and hoping some of it might stick. in that effort the recall improves but precision goes down\n",
    "* notice that recall is 10% on label5000 and precision is almost 100%. despite the fact that algorithm had about 56k examples of label5000 to train on, it has not been able to map search terms (that were under label5000) as label5000. meaning the learning of label5000 is not good despite a huge number of examples to learn from. this means that the search terms under label5000 were very very diverse and could not be generalised (semantically) under one label. this therefore is another reason why we must not merge low frequency labels"
   ]
  },
  {
   "cell_type": "code",
   "execution_count": 45,
   "metadata": {},
   "outputs": [
    {
     "data": {
      "text/html": [
       "<div>\n",
       "<style scoped>\n",
       "    .dataframe tbody tr th:only-of-type {\n",
       "        vertical-align: middle;\n",
       "    }\n",
       "\n",
       "    .dataframe tbody tr th {\n",
       "        vertical-align: top;\n",
       "    }\n",
       "\n",
       "    .dataframe thead th {\n",
       "        text-align: right;\n",
       "    }\n",
       "</style>\n",
       "<table border=\"1\" class=\"dataframe\">\n",
       "  <thead>\n",
       "    <tr style=\"text-align: right;\">\n",
       "      <th></th>\n",
       "      <th>index</th>\n",
       "      <th>precision</th>\n",
       "      <th>recall</th>\n",
       "      <th>f1-score</th>\n",
       "      <th>support</th>\n",
       "    </tr>\n",
       "  </thead>\n",
       "  <tbody>\n",
       "    <tr>\n",
       "      <th>0</th>\n",
       "      <td>0</td>\n",
       "      <td>0.000000</td>\n",
       "      <td>0.000000</td>\n",
       "      <td>0.000000</td>\n",
       "      <td>0.000000</td>\n",
       "    </tr>\n",
       "    <tr>\n",
       "      <th>1</th>\n",
       "      <td>1</td>\n",
       "      <td>0.000000</td>\n",
       "      <td>0.000000</td>\n",
       "      <td>0.000000</td>\n",
       "      <td>0.000000</td>\n",
       "    </tr>\n",
       "    <tr>\n",
       "      <th>2</th>\n",
       "      <td>2</td>\n",
       "      <td>0.000000</td>\n",
       "      <td>0.000000</td>\n",
       "      <td>0.000000</td>\n",
       "      <td>0.000000</td>\n",
       "    </tr>\n",
       "    <tr>\n",
       "      <th>3</th>\n",
       "      <td>3</td>\n",
       "      <td>0.000000</td>\n",
       "      <td>0.000000</td>\n",
       "      <td>0.000000</td>\n",
       "      <td>0.000000</td>\n",
       "    </tr>\n",
       "    <tr>\n",
       "      <th>4</th>\n",
       "      <td>4</td>\n",
       "      <td>0.000000</td>\n",
       "      <td>0.000000</td>\n",
       "      <td>0.000000</td>\n",
       "      <td>1.000000</td>\n",
       "    </tr>\n",
       "    <tr>\n",
       "      <th>...</th>\n",
       "      <td>...</td>\n",
       "      <td>...</td>\n",
       "      <td>...</td>\n",
       "      <td>...</td>\n",
       "      <td>...</td>\n",
       "    </tr>\n",
       "    <tr>\n",
       "      <th>1155</th>\n",
       "      <td>1418</td>\n",
       "      <td>0.000000</td>\n",
       "      <td>0.000000</td>\n",
       "      <td>0.000000</td>\n",
       "      <td>0.000000</td>\n",
       "    </tr>\n",
       "    <tr>\n",
       "      <th>1156</th>\n",
       "      <td>5000</td>\n",
       "      <td>0.998196</td>\n",
       "      <td>0.094776</td>\n",
       "      <td>0.173115</td>\n",
       "      <td>198510.000000</td>\n",
       "    </tr>\n",
       "    <tr>\n",
       "      <th>1157</th>\n",
       "      <td>accuracy</td>\n",
       "      <td>0.101567</td>\n",
       "      <td>0.101567</td>\n",
       "      <td>0.101567</td>\n",
       "      <td>0.101567</td>\n",
       "    </tr>\n",
       "    <tr>\n",
       "      <th>1158</th>\n",
       "      <td>macro avg</td>\n",
       "      <td>0.008123</td>\n",
       "      <td>0.198178</td>\n",
       "      <td>0.013529</td>\n",
       "      <td>200252.000000</td>\n",
       "    </tr>\n",
       "    <tr>\n",
       "      <th>1159</th>\n",
       "      <td>weighted avg</td>\n",
       "      <td>0.990201</td>\n",
       "      <td>0.101567</td>\n",
       "      <td>0.172820</td>\n",
       "      <td>200252.000000</td>\n",
       "    </tr>\n",
       "  </tbody>\n",
       "</table>\n",
       "<p>1160 rows × 5 columns</p>\n",
       "</div>"
      ],
      "text/plain": [
       "             index  precision    recall  f1-score        support\n",
       "0                0   0.000000  0.000000  0.000000       0.000000\n",
       "1                1   0.000000  0.000000  0.000000       0.000000\n",
       "2                2   0.000000  0.000000  0.000000       0.000000\n",
       "3                3   0.000000  0.000000  0.000000       0.000000\n",
       "4                4   0.000000  0.000000  0.000000       1.000000\n",
       "...            ...        ...       ...       ...            ...\n",
       "1155          1418   0.000000  0.000000  0.000000       0.000000\n",
       "1156          5000   0.998196  0.094776  0.173115  198510.000000\n",
       "1157      accuracy   0.101567  0.101567  0.101567       0.101567\n",
       "1158     macro avg   0.008123  0.198178  0.013529  200252.000000\n",
       "1159  weighted avg   0.990201  0.101567  0.172820  200252.000000\n",
       "\n",
       "[1160 rows x 5 columns]"
      ]
     },
     "execution_count": 45,
     "metadata": {},
     "output_type": "execute_result"
    }
   ],
   "source": [
    "report_df2.reset_index()\n",
    "#report_df2[report_df2['index']==5000]   #.sort_values(by='precision', ascending=False)   #by=['recall', 'precision']"
   ]
  },
  {
   "cell_type": "markdown",
   "metadata": {},
   "source": [
    " "
   ]
  },
  {
   "cell_type": "markdown",
   "metadata": {},
   "source": [
    " "
   ]
  },
  {
   "cell_type": "markdown",
   "metadata": {},
   "source": [
    " "
   ]
  },
  {
   "cell_type": "markdown",
   "metadata": {},
   "source": [
    "# 4. Weaknesses in the model\n",
    "\n",
    "* could have explored some further evaulation metrics \n",
    "* hiearchy of labels would have helped achieve better accuracy. accuracy achieved is low.\n",
    "* need a supervised learning word vectorizer that operates on inherent semantic similarity. something like a cross between tf-idf and word2vec\n",
    "* some more pre-processing could have been done. like removing search terms which have duplicate labels. search term 'domain' has two different labels. 'value car' has multiple labels. these issues could have been fixed with more eda provided more time is granted\n",
    "* if we intend to run batch process then other alogorithms can also be more suitable. like we demonstrated that ovr classifier gave better accuracy that naive bayes multinomial\n",
    "* could have tried ensemble of boosted trees as that is also a good fit for multiclass classification problems"
   ]
  },
  {
   "cell_type": "markdown",
   "metadata": {},
   "source": [
    " "
   ]
  },
  {
   "cell_type": "markdown",
   "metadata": {},
   "source": [
    " "
   ]
  },
  {
   "cell_type": "markdown",
   "metadata": {},
   "source": [
    " "
   ]
  },
  {
   "cell_type": "markdown",
   "metadata": {},
   "source": [
    "# 5. Other techniques and models we tried"
   ]
  },
  {
   "cell_type": "markdown",
   "metadata": {},
   "source": [
    "### Deep Learning model"
   ]
  },
  {
   "cell_type": "code",
   "execution_count": 20,
   "metadata": {},
   "outputs": [],
   "source": [
    "from keras.preprocessing.text import Tokenizer\n",
    "from keras.preprocessing.sequence import pad_sequences\n",
    "from keras.models import Sequential\n",
    "from keras.layers import Dense, Embedding, LSTM\n",
    "from keras.utils.np_utils import to_categorical\n",
    "from keras.callbacks import ModelCheckpoint\n",
    "from keras.models import load_model\n",
    "from keras.optimizers import Adam"
   ]
  },
  {
   "cell_type": "code",
   "execution_count": 21,
   "metadata": {},
   "outputs": [
    {
     "name": "stdout",
     "output_type": "stream",
     "text": [
      "Found 17514 unique tokens.\n"
     ]
    }
   ],
   "source": [
    "# The maximum number of words to be used. (most frequent)\n",
    "MAX_NB_WORDS = 50000\n",
    "# Max number of words in each complaint.\n",
    "MAX_SEQUENCE_LENGTH = 250\n",
    "# This is fixed.\n",
    "EMBEDDING_DIM = 100\n",
    "tokenizer = Tokenizer(num_words=MAX_NB_WORDS, filters='!\"#$%&()*+,-./:;<=>?@[\\]^_`{|}~', lower=True)\n",
    "tokenizer.fit_on_texts(df.text.values)\n",
    "word_index = tokenizer.word_index\n",
    "print('Found %s unique tokens.' % len(word_index))"
   ]
  },
  {
   "cell_type": "code",
   "execution_count": 22,
   "metadata": {},
   "outputs": [
    {
     "name": "stdout",
     "output_type": "stream",
     "text": [
      "Shape of data tensor: (50000, 250)\n"
     ]
    }
   ],
   "source": [
    "X = tokenizer.texts_to_sequences(df.text.values)\n",
    "X = pad_sequences(X, maxlen=MAX_SEQUENCE_LENGTH)\n",
    "print('Shape of data tensor:', X.shape)"
   ]
  },
  {
   "cell_type": "code",
   "execution_count": 23,
   "metadata": {},
   "outputs": [],
   "source": [
    "Y = pd.get_dummies(df.Category).values\n"
   ]
  },
  {
   "cell_type": "code",
   "execution_count": 24,
   "metadata": {},
   "outputs": [
    {
     "name": "stdout",
     "output_type": "stream",
     "text": [
      "(45000, 250) (45000, 1413)\n",
      "(5000, 250) (5000, 1413)\n"
     ]
    }
   ],
   "source": [
    "X_train, X_test, Y_train, Y_test = train_test_split(X,Y, test_size = 0.10, random_state = 42)\n",
    "print(X_train.shape,Y_train.shape)\n",
    "print(X_test.shape,Y_test.shape)"
   ]
  },
  {
   "cell_type": "code",
   "execution_count": 25,
   "metadata": {},
   "outputs": [
    {
     "name": "stdout",
     "output_type": "stream",
     "text": [
      "Epoch 1/5\n",
      "633/633 [==============================] - 399s 631ms/step - loss: 7.1310 - accuracy: 0.0044 - val_loss: 6.7455 - val_accuracy: 0.0229\n",
      "Epoch 2/5\n",
      "633/633 [==============================] - 392s 620ms/step - loss: 5.9524 - accuracy: 0.0877 - val_loss: 5.3976 - val_accuracy: 0.1613\n",
      "Epoch 3/5\n",
      "633/633 [==============================] - 395s 623ms/step - loss: 4.4923 - accuracy: 0.2492 - val_loss: 4.5306 - val_accuracy: 0.2580\n",
      "Epoch 4/5\n",
      "633/633 [==============================] - 408s 645ms/step - loss: 3.4652 - accuracy: 0.3880 - val_loss: 4.1230 - val_accuracy: 0.2976\n",
      "Epoch 5/5\n",
      "633/633 [==============================] - 383s 605ms/step - loss: 2.7865 - accuracy: 0.4873 - val_loss: 3.9119 - val_accuracy: 0.3244\n"
     ]
    }
   ],
   "source": [
    "from keras.layers import SpatialDropout1D\n",
    "from keras.callbacks import EarlyStopping\n",
    "\n",
    "model = Sequential()\n",
    "model.add(Embedding(MAX_NB_WORDS, EMBEDDING_DIM, input_length=X.shape[1]))\n",
    "model.add(SpatialDropout1D(0.2))\n",
    "model.add(LSTM(100, dropout=0.2, recurrent_dropout=0.2))\n",
    "model.add(Dense(1413, activation='softmax'))\n",
    "model.compile(loss='categorical_crossentropy', optimizer='adam', metrics=['accuracy'])\n",
    "\n",
    "epochs = 5\n",
    "batch_size = 64\n",
    "\n",
    "history = model.fit(X_train, Y_train, epochs=epochs, batch_size=batch_size,validation_split=0.1,callbacks=[EarlyStopping(monitor='val_loss', patience=3, min_delta=0.0001)])\n"
   ]
  },
  {
   "cell_type": "code",
   "execution_count": 52,
   "metadata": {},
   "outputs": [
    {
     "name": "stdout",
     "output_type": "stream",
     "text": [
      "5000/5000 [==============================] - 15s 3ms/step\n",
      "Test set\n",
      "  Loss: 3.958\n",
      "  Accuracy: 0.326\n"
     ]
    }
   ],
   "source": [
    "accr = model.evaluate(X_test,Y_test)\n",
    "print('Test set\\n  Loss: {:0.3f}\\n  Accuracy: {:0.3f}'.format(accr[0],accr[1]))"
   ]
  },
  {
   "cell_type": "code",
   "execution_count": 53,
   "metadata": {},
   "outputs": [],
   "source": [
    "import matplotlib.pyplot as plt\n",
    "%matplotlib inline"
   ]
  },
  {
   "cell_type": "code",
   "execution_count": 54,
   "metadata": {},
   "outputs": [
    {
     "data": {
      "image/png": "[encoded data removed]",
      "text/plain": [
       "<Figure size 432x288 with 1 Axes>"
      ]
     },
     "metadata": {},
     "output_type": "display_data"
    }
   ],
   "source": [
    "plt.title('Loss')\n",
    "plt.plot(history.history['loss'], label='train')\n",
    "plt.plot(history.history['val_loss'], label='test')\n",
    "plt.legend()\n",
    "plt.show();"
   ]
  },
  {
   "cell_type": "code",
   "execution_count": 55,
   "metadata": {},
   "outputs": [
    {
     "data": {
      "image/png": "[encoded data removed]",
      "text/plain": [
       "<Figure size 432x288 with 1 Axes>"
      ]
     },
     "metadata": {},
     "output_type": "display_data"
    }
   ],
   "source": [
    "plt.title('Accuracy')\n",
    "plt.plot(history.history['acc'], label='train')\n",
    "plt.plot(history.history['val_acc'], label='test')\n",
    "plt.legend()\n",
    "plt.show();"
   ]
  },
  {
   "cell_type": "markdown",
   "metadata": {},
   "source": [
    "# END"
   ]
  }
 ],
 "metadata": {
  "kernelspec": {
   "display_name": "Python 3",
   "language": "python",
   "name": "python3"
  },
  "language_info": {
   "codemirror_mode": {
    "name": "ipython",
    "version": 3
   },
   "file_extension": ".py",
   "mimetype": "text/x-python",
   "name": "python",
   "nbconvert_exporter": "python",
   "pygments_lexer": "ipython3",
   "version": "3.7.7"
  }
 },
 "nbformat": 4,
 "nbformat_minor": 4
}
